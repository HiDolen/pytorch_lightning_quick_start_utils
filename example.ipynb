{
 "cells": [
  {
   "cell_type": "markdown",
   "metadata": {},
   "source": [
    "这个 notebook 文件会示例如何使用 pytorch_lightning_quick_start_utils 完成 ResNet 在 MNIST 上的训练。"
   ]
  },
  {
   "cell_type": "markdown",
   "metadata": {},
   "source": [
    "## 导入包"
   ]
  },
  {
   "cell_type": "code",
   "execution_count": null,
   "metadata": {},
   "outputs": [],
   "source": [
    "import torch\n",
    "import torch.nn as nn\n",
    "from pytorch_lightning.callbacks import ModelCheckpoint\n",
    "from torch.utils.data import DataLoader\n",
    "from torchvision import datasets, transforms\n",
    "import lightning as L"
   ]
  },
  {
   "cell_type": "markdown",
   "metadata": {},
   "source": [
    "## 训练前的初始化"
   ]
  },
  {
   "cell_type": "code",
   "execution_count": null,
   "metadata": {},
   "outputs": [],
   "source": [
    "from pl_utils import init_before_training\n",
    "\n",
    "init_before_training(empty_cache=False)  # 不清理缓存，设置随机种子，设置浮点数精度"
   ]
  },
  {
   "cell_type": "markdown",
   "metadata": {},
   "source": [
    "## 配置"
   ]
  },
  {
   "cell_type": "code",
   "execution_count": 3,
   "metadata": {},
   "outputs": [],
   "source": [
    "from pl_utils import LearningRateConfig, TrainingConfig\n",
    "\n",
    "learning_rate_config = LearningRateConfig(\n",
    "    lr_warmup_steps=10,\n",
    "    lr_initial=1e-5,\n",
    "    lr_max=1e-4,\n",
    "    lr_end=1e-5,\n",
    ")\n",
    "\n",
    "training_config = TrainingConfig(\n",
    "    optimizer='adamw',\n",
    "    optimizer_args={\n",
    "        'betas': (0.9, 0.95),\n",
    "        'weight_decay': 1e-3,\n",
    "        \"fused\": True,\n",
    "    },\n",
    ")"
   ]
  },
  {
   "cell_type": "markdown",
   "metadata": {},
   "source": [
    "## 数据集定义"
   ]
  },
  {
   "cell_type": "code",
   "execution_count": 4,
   "metadata": {},
   "outputs": [],
   "source": [
    "from pl_utils import get_train_val_dataloader\n",
    "\n",
    "transform = transforms.Compose([transforms.ToTensor(), transforms.Normalize((0.5,), (0.5,))])\n",
    "\n",
    "train_dataset = datasets.MNIST(root='./data', train=True, download=True, transform=transform)\n",
    "test_dataset = datasets.MNIST(root='./data', train=False, download=True, transform=transform)\n",
    "train_loader, val_loader = get_train_val_dataloader(\n",
    "    [train_dataset, test_dataset],\n",
    "    batch_size=64,\n",
    "    pin_memory=True,\n",
    "    num_workers=4,\n",
    "    drop_last=True,\n",
    "    persistent_workers=True,\n",
    "    train_shuffle=True,\n",
    ")"
   ]
  },
  {
   "cell_type": "markdown",
   "metadata": {},
   "source": [
    "## 模型定义"
   ]
  },
  {
   "cell_type": "code",
   "execution_count": 5,
   "metadata": {},
   "outputs": [],
   "source": [
    "class ResidualBlock(nn.Module):\n",
    "    def __init__(self, in_channels, out_channels, stride=1):\n",
    "        super(ResidualBlock, self).__init__()\n",
    "        self.conv1 = nn.Conv2d(\n",
    "            in_channels, out_channels, kernel_size=3, stride=stride, padding=1, bias=False\n",
    "        )\n",
    "        self.bn1 = nn.BatchNorm2d(out_channels)\n",
    "        self.relu = nn.ReLU(inplace=True)\n",
    "        self.conv2 = nn.Conv2d(\n",
    "            out_channels, out_channels, kernel_size=3, stride=1, padding=1, bias=False\n",
    "        )\n",
    "        self.bn2 = nn.BatchNorm2d(out_channels)\n",
    "\n",
    "        self.downsample = nn.Sequential()\n",
    "        if stride != 1 or in_channels != out_channels:\n",
    "            self.downsample = nn.Sequential(\n",
    "                nn.Conv2d(in_channels, out_channels, kernel_size=1, stride=stride, bias=False),\n",
    "                nn.BatchNorm2d(out_channels),\n",
    "            )\n",
    "\n",
    "    def forward(self, x):\n",
    "        identity = x\n",
    "\n",
    "        out = self.conv1(x)\n",
    "        out = self.bn1(out)\n",
    "        out = self.relu(out)\n",
    "\n",
    "        out = self.conv2(out)\n",
    "        out = self.bn2(out)\n",
    "\n",
    "        identity = self.downsample(x)\n",
    "        out += identity\n",
    "        out = self.relu(out)\n",
    "\n",
    "        return out\n",
    "\n",
    "\n",
    "class ResNet(nn.Module):\n",
    "    def __init__(self, block, layers, num_classes=10):\n",
    "        super(ResNet, self).__init__()\n",
    "        self.in_channels = 64\n",
    "        self.conv1 = nn.Conv2d(1, self.in_channels, kernel_size=3, padding=1, bias=False)\n",
    "        self.bn1 = nn.BatchNorm2d(self.in_channels)\n",
    "        self.relu = nn.ReLU(inplace=True)\n",
    "        self.layer1 = self._make_layer(block, 64, layers[0])\n",
    "        self.layer2 = self._make_layer(block, 128, layers[1], stride=2)\n",
    "        self.layer3 = self._make_layer(block, 256, layers[2], stride=2)\n",
    "        self.layer4 = self._make_layer(block, 512, layers[3], stride=2)\n",
    "        self.fc = nn.Linear(8192 * 1 * 1, num_classes)\n",
    "\n",
    "    def _make_layer(self, block, out_channels, blocks, stride=1):\n",
    "        strides = [stride] + [1] * (blocks - 1)\n",
    "        layers = []\n",
    "        for stride in strides:\n",
    "            layers.append(block(self.in_channels, out_channels, stride))\n",
    "            self.in_channels = out_channels\n",
    "        return nn.Sequential(*layers)\n",
    "\n",
    "    def forward(self, x):\n",
    "        out = self.conv1(x)\n",
    "        out = self.bn1(out)\n",
    "        out = self.relu(out)\n",
    "\n",
    "        out = self.layer1(out)\n",
    "        out = self.layer2(out)\n",
    "        out = self.layer3(out)\n",
    "        out = self.layer4(out)\n",
    "\n",
    "        out = torch.flatten(out, 1)\n",
    "        out = self.fc(out)\n",
    "        return out"
   ]
  },
  {
   "cell_type": "markdown",
   "metadata": {},
   "source": [
    "## Lightning"
   ]
  },
  {
   "cell_type": "code",
   "execution_count": 6,
   "metadata": {},
   "outputs": [],
   "source": [
    "from pl_utils import BaseModule\n",
    "\n",
    "\n",
    "class ResNetForMNIST(BaseModule):\n",
    "    def __init__(\n",
    "        self,\n",
    "        model,\n",
    "        lr_config: LearningRateConfig,\n",
    "        training_config: TrainingConfig,\n",
    "    ):\n",
    "        super(ResNetForMNIST, self).__init__(model, lr_config, training_config)\n",
    "        self.criterion = nn.CrossEntropyLoss()\n",
    "\n",
    "    def forward(self, x):\n",
    "        return self.model(x)\n",
    "\n",
    "    def training_step(self, batch, batch_idx):\n",
    "        data, target = batch\n",
    "        output = self(data)\n",
    "        loss = self.criterion(output, target)\n",
    "        grad_norm = nn.utils.clip_grad_norm_(self.model.parameters(), 2.0)\n",
    "        self.log(\"train/loss\", loss, on_step=True, on_epoch=True)\n",
    "        self.log(\"train/grad_norm\", grad_norm, on_step=True, on_epoch=True)\n",
    "        return loss\n",
    "\n",
    "    def validation_step(self, batch, batch_idx):\n",
    "        data, target = batch\n",
    "        output = self(data)\n",
    "        loss = self.criterion(output, target)\n",
    "        self.log(\"val/loss\", loss, on_step=False, on_epoch=True)\n",
    "\n",
    "        pred = output.argmax(dim=1, keepdim=True)\n",
    "        correct = pred.eq(target.view_as(pred)).sum().item()\n",
    "        accuracy = correct / target.size(0)\n",
    "        self.log(\"val/accuracy\", accuracy, on_step=False, on_epoch=True)\n",
    "\n",
    "        return loss"
   ]
  },
  {
   "cell_type": "markdown",
   "metadata": {},
   "source": [
    "## 实例化模型"
   ]
  },
  {
   "cell_type": "code",
   "execution_count": 7,
   "metadata": {},
   "outputs": [],
   "source": [
    "model = ResNet(ResidualBlock, [2, 2, 2, 2])\n",
    "pl_model = ResNetForMNIST(model, learning_rate_config, training_config)\n",
    "\n",
    "model.compile(\n",
    "    fullgraph=False,\n",
    "    dynamic=False,\n",
    "    options={\n",
    "        \"shape_padding\": True,\n",
    "        \"max_autotune\": True,\n",
    "    },\n",
    ")"
   ]
  },
  {
   "cell_type": "markdown",
   "metadata": {},
   "source": [
    "## 准备"
   ]
  },
  {
   "cell_type": "code",
   "execution_count": null,
   "metadata": {},
   "outputs": [],
   "source": [
    "import lightning.pytorch as L\n",
    "from lightning.pytorch.callbacks import ModelCheckpoint\n",
    "from lightning.pytorch.loggers import TensorBoardLogger\n",
    "from pl_utils.lightning import format_next_version_name, get_specified_version_name\n",
    "\n",
    "name = \"训练测试\"  # 当前版本名称。会作为 log_dir 的一部分\n",
    "\n",
    "checkpoint_callback = ModelCheckpoint(\n",
    "    save_top_k=3,\n",
    "    auto_insert_metric_name=True,\n",
    "    monitor=\"val/loss\",\n",
    "    mode=\"min\",\n",
    "    every_n_epochs=10,\n",
    "    save_weights_only=False,\n",
    "    save_last=\"link\",\n",
    ")\n",
    "\n",
    "trainer_config = {\n",
    "    \"accelerator\": \"gpu\",\n",
    "    \"max_epochs\": 300,\n",
    "    \"precision\": \"bf16-mixed\",\n",
    "    # \"accumulate_grad_batches\": 4,\n",
    "    \"log_every_n_steps\": 1,\n",
    "    \"default_root_dir\": \"./\",\n",
    "    \"callbacks\": [checkpoint_callback],\n",
    "    \"num_sanity_val_steps\": 0,\n",
    "}"
   ]
  },
  {
   "cell_type": "markdown",
   "metadata": {},
   "source": [
    "## 开始训练"
   ]
  },
  {
   "cell_type": "code",
   "execution_count": null,
   "metadata": {},
   "outputs": [],
   "source": [
    "logger = TensorBoardLogger(save_dir=\"./\", version=format_next_version_name(name))\n",
    "\n",
    "trainer = L.Trainer(\n",
    "    logger=logger,\n",
    "    # fast_dev_run=True,\n",
    "    **trainer_config,\n",
    ")\n",
    "\n",
    "trainer.fit(pl_model, train_loader, val_loader)"
   ]
  },
  {
   "attachments": {
    "image.png": {
     "image/png": "[encoded data removed]"
    }
   },
   "cell_type": "markdown",
   "metadata": {},
   "source": [
    "在 TensorBoard 上看训练结果\n",
    "\n",
    "![image.png](attachment:image.png)"
   ]
  },
  {
   "cell_type": "markdown",
   "metadata": {},
   "source": [
    "## 从检查点继续训练"
   ]
  },
  {
   "cell_type": "code",
   "execution_count": null,
   "metadata": {},
   "outputs": [],
   "source": [
    "current_version = get_specified_version_name()  # 不传入参数时，获取最新版本的名称\n",
    "logger = TensorBoardLogger(save_dir=\"./\", version=current_version)\n",
    "\n",
    "trainer = L.Trainer(\n",
    "    logger=logger,\n",
    "    **trainer_config,\n",
    ")\n",
    "\n",
    "trainer.fit(\n",
    "    pl_model,\n",
    "    train_loader,\n",
    "    val_loader,\n",
    "    # ckpt_path=f\"./lightning_logs/{current_version}/checkpoints/epoch=229-step=9890.ckpt\",\n",
    "    ckpt_path=\"last\",\n",
    ")"
   ]
  }
 ],
 "metadata": {
  "kernelspec": {
   "display_name": "3.12",
   "language": "python",
   "name": "python3"
  },
  "language_info": {
   "codemirror_mode": {
    "name": "ipython",
    "version": 3
   },
   "file_extension": ".py",
   "mimetype": "text/x-python",
   "name": "python",
   "nbconvert_exporter": "python",
   "pygments_lexer": "ipython3",
   "version": "undefined.undefined.undefined"
  }
 },
 "nbformat": 4,
 "nbformat_minor": 2
}
